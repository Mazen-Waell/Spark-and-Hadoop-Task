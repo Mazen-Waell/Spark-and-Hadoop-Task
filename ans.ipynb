{
 "cells": [
  {
   "cell_type": "code",
   "execution_count": 2,
   "id": "de830fb1",
   "metadata": {},
   "outputs": [],
   "source": [
    "from pyspark.sql import SparkSession\n",
    "import pyspark.sql.functions as fun\n",
    "import numpy as np\n"
   ]
  },
  {
   "cell_type": "code",
   "execution_count": 3,
   "id": "86bd4d36",
   "metadata": {},
   "outputs": [],
   "source": [
    "Spark=SparkSession.builder.getOrCreate()"
   ]
  },
  {
   "cell_type": "code",
   "execution_count": 4,
   "id": "49946e81",
   "metadata": {},
   "outputs": [],
   "source": [
    "df=Spark.read.csv(\"/data/titanic.csv\",header=True , inferSchema=True)"
   ]
  },
  {
   "cell_type": "code",
   "execution_count": 5,
   "id": "aca486ff",
   "metadata": {},
   "outputs": [
    {
     "name": "stdout",
     "output_type": "stream",
     "text": [
      "+-----------+--------+------+--------------------+------+----+-----+-----+----------------+-------+-----+--------+\n",
      "|PassengerId|Survived|Pclass|                Name|gender| Age|SibSp|Parch|          Ticket|   Fare|Cabin|Embarked|\n",
      "+-----------+--------+------+--------------------+------+----+-----+-----+----------------+-------+-----+--------+\n",
      "|          1|       0|     3|Braund, Mr. Owen ...|  male|22.0|    1|    0|       A/5 21171|   7.25| NULL|       S|\n",
      "|          2|       1|     1|Cumings, Mrs. Joh...|female|38.0|    1|    0|        PC 17599|71.2833|  C85|       C|\n",
      "|          3|       1|     3|Heikkinen, Miss. ...|female|26.0|    0|    0|STON/O2. 3101282|  7.925| NULL|       S|\n",
      "|          4|       1|     1|Futrelle, Mrs. Ja...|female|35.0|    1|    0|          113803|   53.1| C123|       S|\n",
      "|          5|       0|     3|Allen, Mr. Willia...|  male|35.0|    0|    0|          373450|   8.05| NULL|       S|\n",
      "+-----------+--------+------+--------------------+------+----+-----+-----+----------------+-------+-----+--------+\n",
      "only showing top 5 rows\n",
      "\n"
     ]
    }
   ],
   "source": [
    "df.show(5)"
   ]
  },
  {
   "cell_type": "code",
   "execution_count": 6,
   "id": "0bca327f",
   "metadata": {},
   "outputs": [
    {
     "data": {
      "text/plain": [
       "687"
      ]
     },
     "execution_count": 6,
     "metadata": {},
     "output_type": "execute_result"
    }
   ],
   "source": [
    "numOf_cabin_null=df.filter(fun.col('Cabin').isNull()).count()\n",
    "numOf_cabin_null"
   ]
  },
  {
   "cell_type": "code",
   "execution_count": 7,
   "id": "d77a9528",
   "metadata": {},
   "outputs": [
    {
     "data": {
      "text/plain": [
       "29.69911764705882"
      ]
     },
     "execution_count": 7,
     "metadata": {},
     "output_type": "execute_result"
    }
   ],
   "source": [
    "avg_ages=df.select( fun.avg(\"Age\")).collect()\n",
    "avg_ages[0][0]"
   ]
  },
  {
   "cell_type": "code",
   "execution_count": 8,
   "id": "7b27e4c0",
   "metadata": {},
   "outputs": [],
   "source": [
    "df=df.fillna({'Age':avg_ages[0][0]})"
   ]
  },
  {
   "cell_type": "code",
   "execution_count": 9,
   "id": "203fc741",
   "metadata": {},
   "outputs": [
    {
     "name": "stdout",
     "output_type": "stream",
     "text": [
      "total number of passengers who survived: 342 \n",
      "and those who did not: 549\n"
     ]
    }
   ],
   "source": [
    "passengers_who_survived = df.filter(df['Survived']== 1).count()\n",
    "passengers_who_Notsurvived=df.filter(df['Survived']== 0).count()\n",
    "print(f\"total number of passengers who survived: {passengers_who_survived} \\nand those who did not: {passengers_who_Notsurvived}\")"
   ]
  },
  {
   "cell_type": "code",
   "execution_count": 10,
   "id": "ee3b62aa",
   "metadata": {},
   "outputs": [
    {
     "name": "stdout",
     "output_type": "stream",
     "text": [
      "+--------+-----+\n",
      "|Embarked|count|\n",
      "+--------+-----+\n",
      "|       S|  644|\n",
      "|       C|  168|\n",
      "|       Q|   77|\n",
      "|    NULL|    2|\n",
      "+--------+-----+\n",
      "\n"
     ]
    }
   ],
   "source": [
    "embarkation_ports=df.groupBy('Embarked').count().orderBy(fun.desc(\"count\"))\n",
    "embarkation_ports.show(5)\n",
    "\n"
   ]
  },
  {
   "cell_type": "code",
   "execution_count": 11,
   "id": "03e0f3b3",
   "metadata": {},
   "outputs": [
    {
     "name": "stdout",
     "output_type": "stream",
     "text": [
      "+------+-------------------+\n",
      "|Pclass|       SurvivalRate|\n",
      "+------+-------------------+\n",
      "|     1| 0.6296296296296297|\n",
      "|     3|0.24236252545824846|\n",
      "|     2|0.47282608695652173|\n",
      "+------+-------------------+\n",
      "\n"
     ]
    }
   ],
   "source": [
    "df.groupBy('Pclass').agg(fun.avg('Survived').alias(\"SurvivalRate\")).show()"
   ]
  },
  {
   "cell_type": "code",
   "execution_count": 15,
   "id": "2ce3ccfc",
   "metadata": {},
   "outputs": [
    {
     "name": "stdout",
     "output_type": "stream",
     "text": [
      "+---------+\n",
      "|max(Fare)|\n",
      "+---------+\n",
      "| 512.3292|\n",
      "+---------+\n",
      "\n"
     ]
    }
   ],
   "source": [
    "df.select(fun.max('Fare')).show()"
   ]
  },
  {
   "cell_type": "code",
   "execution_count": 16,
   "id": "6281015d",
   "metadata": {},
   "outputs": [
    {
     "name": "stdout",
     "output_type": "stream",
     "text": [
      "+---------+\n",
      "|min(Fare)|\n",
      "+---------+\n",
      "|      0.0|\n",
      "+---------+\n",
      "\n"
     ]
    }
   ],
   "source": [
    "df.select(fun.min('Fare')).show()"
   ]
  },
  {
   "cell_type": "code",
   "execution_count": 17,
   "id": "a89168ca",
   "metadata": {},
   "outputs": [
    {
     "name": "stdout",
     "output_type": "stream",
     "text": [
      "+----------------+\n",
      "|       avg(Fare)|\n",
      "+----------------+\n",
      "|32.2042079685746|\n",
      "+----------------+\n",
      "\n"
     ]
    }
   ],
   "source": [
    "df.select(fun.avg('Fare')).show()"
   ]
  },
  {
   "cell_type": "code",
   "execution_count": 26,
   "id": "061a11dc",
   "metadata": {},
   "outputs": [
    {
     "name": "stdout",
     "output_type": "stream",
     "text": [
      "0-18: 139, 19-35: 535, 36-60: 195, 60+: 22\n"
     ]
    }
   ],
   "source": [
    "age_0_18 ,age_19_35, age_36_60,age_plus60 =0,0,0,0\n",
    "age_0_18 = df.filter(df['Age'] <= 18).count()\n",
    "age_19_35 = df.filter(  (df['Age'] >=19)  & (df['Age'] <= 35)).count()\n",
    "age_36_60 = df.filter(  (df['Age'] >=36)  & (df['Age'] <= 60)).count()\n",
    "age_plus60 = df.filter(df['Age'] > 60).count()\n",
    "\n",
    "print(f\"0-18: {age_0_18}, 19-35: {age_19_35}, 36-60: {age_36_60}, 60+: {age_plus60}\")\n",
    "\n"
   ]
  },
  {
   "cell_type": "code",
   "execution_count": 32,
   "id": "b6b6dde9",
   "metadata": {},
   "outputs": [],
   "source": [
    "df.write.option(\"header\", True).csv(\"/data/processed_output\")\n",
    "\n",
    "\n"
   ]
  },
  {
   "cell_type": "code",
   "execution_count": null,
   "id": "f5c3be9b",
   "metadata": {},
   "outputs": [],
   "source": []
  }
 ],
 "metadata": {
  "kernelspec": {
   "display_name": "Python 3 (ipykernel)",
   "language": "python",
   "name": "python3"
  },
  "language_info": {
   "codemirror_mode": {
    "name": "ipython",
    "version": 3
   },
   "file_extension": ".py",
   "mimetype": "text/x-python",
   "name": "python",
   "nbconvert_exporter": "python",
   "pygments_lexer": "ipython3",
   "version": "3.11.6"
  }
 },
 "nbformat": 4,
 "nbformat_minor": 5
}
